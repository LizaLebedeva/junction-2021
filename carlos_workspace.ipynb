{
 "cells": [
  {
   "cell_type": "markdown",
   "source": "# Workspace - Challenge 1",
   "metadata": {
    "tags": [],
    "cell_id": "00000-70aba689-48d4-4faa-96b6-5e94b16fc94e",
    "deepnote_to_be_reexecuted": false,
    "source_hash": "ff0d19bf",
    "execution_start": 1637396172855,
    "execution_millis": 0,
    "deepnote_cell_type": "markdown"
   }
  },
  {
   "cell_type": "code",
   "metadata": {
    "tags": [],
    "cell_id": "00001-094e4bc6-cdeb-487a-8dd7-8889248e617a",
    "deepnote_to_be_reexecuted": false,
    "source_hash": "2f19d1f9",
    "execution_start": 1637403995270,
    "execution_millis": 45,
    "deepnote_cell_type": "code"
   },
   "source": "%load_ext autoreload\n%autoreload 2",
   "execution_count": 1,
   "outputs": []
  },
  {
   "cell_type": "code",
   "metadata": {
    "tags": [],
    "cell_id": "00002-8383714d-849f-4095-a07e-13ed5c04bc90",
    "deepnote_to_be_reexecuted": false,
    "source_hash": "c2602aa8",
    "execution_start": 1637403995315,
    "execution_millis": 44,
    "deepnote_cell_type": "code"
   },
   "source": "import numpy as np\nimport pandas as pd",
   "execution_count": 2,
   "outputs": []
  },
  {
   "cell_type": "code",
   "metadata": {
    "tags": [],
    "cell_id": "00003-3a77d16d-f0ae-4979-9ddd-a4ebac068e7c",
    "deepnote_to_be_reexecuted": false,
    "source_hash": "b2ee41e0",
    "execution_start": 1637404181612,
    "execution_millis": 1125,
    "deepnote_cell_type": "code"
   },
   "source": "from lumen.io import read_events\nfrom lumen.io import read_positions\nfrom lumen.util import extract_device_events\n\nfrom lumen.device import Device\nfrom lumen.model_greed import ModelGreed",
   "execution_count": 15,
   "outputs": []
  },
  {
   "cell_type": "markdown",
   "source": "## Read data",
   "metadata": {
    "tags": [],
    "cell_id": "00004-5599ef33-9c70-4275-8d1e-01cde45aca10",
    "deepnote_cell_type": "markdown"
   }
  },
  {
   "cell_type": "code",
   "metadata": {
    "tags": [],
    "cell_id": "00004-7cae03ec-0757-44c7-837e-d592254127fd",
    "deepnote_to_be_reexecuted": false,
    "source_hash": "62411da5",
    "execution_start": 1637403995541,
    "execution_millis": 3865,
    "deepnote_cell_type": "code"
   },
   "source": "df_events = read_events('site_1')\ndf_positions = read_positions('site_1')",
   "execution_count": 4,
   "outputs": []
  },
  {
   "cell_type": "code",
   "metadata": {
    "tags": [],
    "cell_id": "00005-04688633-2810-4654-9af1-e72fe4df20f6",
    "deepnote_to_be_reexecuted": false,
    "source_hash": "f46b805e",
    "execution_start": 1637403999412,
    "execution_millis": 3830,
    "deepnote_cell_type": "code"
   },
   "source": "events_map = extract_device_events(df_events)\nprint(f\"Number of mapped devices: {len(events_map.keys())}\")",
   "execution_count": 5,
   "outputs": [
    {
     "name": "stdout",
     "text": "Number of mapped devices: 56\n",
     "output_type": "stream"
    }
   ]
  },
  {
   "cell_type": "code",
   "metadata": {
    "tags": [],
    "cell_id": "00006-19f22a67-a1b7-4bf9-9549-924322c0b6ff",
    "deepnote_to_be_reexecuted": false,
    "source_hash": "60022157",
    "execution_start": 1637404003251,
    "execution_millis": 151,
    "deepnote_output_heights": [
     21.199996948242188
    ],
    "deepnote_cell_type": "code"
   },
   "source": "device_id_list = sorted(df_events.deviceid.unique())\n\ntrain_size = int(0.5 * len(device_id_list))\ntrain_device_id_list = np.random.choice(device_id_list, train_size, replace=False)\ntest_device_id_list = [x for x in device_id_list if x not in train_device_id_list]\n\nlen(train_device_id_list), len(test_device_id_list)",
   "execution_count": 6,
   "outputs": [
    {
     "output_type": "execute_result",
     "execution_count": 6,
     "data": {
      "text/plain": "(28, 28)"
     },
     "metadata": {}
    }
   ]
  },
  {
   "cell_type": "code",
   "metadata": {
    "tags": [],
    "cell_id": "00007-fc69f437-70d7-41ac-9a4d-8b4a36c1f8cc",
    "deepnote_to_be_reexecuted": false,
    "source_hash": "330555a3",
    "execution_start": 1637404003406,
    "execution_millis": 16,
    "deepnote_cell_type": "code"
   },
   "source": "devices_pos = df_positions.set_index('deviceid')",
   "execution_count": 7,
   "outputs": []
  },
  {
   "cell_type": "code",
   "metadata": {
    "tags": [],
    "cell_id": "00009-ce79eb14-200a-4f76-97fa-7778d7022193",
    "deepnote_to_be_reexecuted": false,
    "source_hash": "b435b8e4",
    "execution_start": 1637404075923,
    "execution_millis": 580,
    "deepnote_cell_type": "code"
   },
   "source": "devices = []\nreal_device_id_to_position_map = {}\n\nfor device_id in device_id_list:\n    point = devices_pos.loc[device_id]\n    position = [point.x, point.y]\n    _device = Device(position=position, device_id=None)    \n    if device_id in train_device_id_list:\n        # Add as known device\n        _device.set_device_id(device_id)\n\n    devices.append(_device)\n    # To calculate loss\n    real_device_id_to_position_map[device_id] = [point.x, point.y]",
   "execution_count": 10,
   "outputs": []
  },
  {
   "cell_type": "code",
   "metadata": {
    "tags": [],
    "cell_id": "00010-f41594ef-c849-4efe-bef4-487c8b6981e4",
    "deepnote_to_be_reexecuted": false,
    "source_hash": "acb00db9",
    "execution_start": 1637404099254,
    "execution_millis": 26,
    "deepnote_output_heights": [
     21.199996948242188
    ],
    "deepnote_cell_type": "code"
   },
   "source": "known_devices = [device for device in devices if device.has_device_id()]\ndevice_id_candidates = set(test_device_id_list)\n\nlen(known_devices), len(device_id_candidates)",
   "execution_count": 13,
   "outputs": [
    {
     "output_type": "execute_result",
     "execution_count": 13,
     "data": {
      "text/plain": "(28, 28)"
     },
     "metadata": {}
    }
   ]
  },
  {
   "cell_type": "code",
   "metadata": {
    "tags": [],
    "cell_id": "00011-6590db5d-50b3-41c6-9176-e9c732c6111d",
    "deepnote_to_be_reexecuted": false,
    "source_hash": "6c455783",
    "execution_start": 1637404201595,
    "execution_millis": 55191,
    "deepnote_cell_type": "code"
   },
   "source": "model = ModelGreed(devices)\nmodel.fit(df_events)\nmodel.map_unknowns(test_device_id_list)",
   "execution_count": 17,
   "outputs": []
  },
  {
   "cell_type": "code",
   "source": "# Calculate loss\nloss = 0\nfor device in devices:\n    position = device.position\n    real_position = real_device_id_to_position_map.get(device.device_id)\n    loss += ((position[0] - real_position[0])**2 + (position[1] - real_position[1])**2)**0.5\n\nloss",
   "metadata": {
    "tags": [],
    "cell_id": "00012-d06f31d4-b0cf-465e-b36e-7a34ed40c0fe",
    "deepnote_to_be_reexecuted": false,
    "source_hash": "4b20168f",
    "execution_start": 1637404256787,
    "execution_millis": 346,
    "deepnote_output_heights": [
     21.199996948242188
    ],
    "deepnote_cell_type": "code"
   },
   "outputs": [
    {
     "output_type": "execute_result",
     "execution_count": 18,
     "data": {
      "text/plain": "5312.234049355525"
     },
     "metadata": {}
    }
   ],
   "execution_count": 18
  },
  {
   "cell_type": "code",
   "source": "errors = []\nsplits = [0.1, 0.2, 0.5, 0.7, 0.9]\n\nfor split in splits:\n    print(f\"... estimating loss for split: {split}\")\n    train_size = int(split * len(device_id_list))\n    train_device_id_list = np.random.choice(device_id_list, train_size, replace=False)\n    test_device_id_list = [x for x in device_id_list if x not in train_device_id_list]\n    \n    devices = []\n    real_device_id_to_position_map = {}\n    for device_id in device_id_list:\n        point = devices_pos.loc[device_id]\n        position = [point.x, point.y]\n        _device = Device(position=position, device_id=None)    \n        if device_id in train_device_id_list:\n            # Add as known device\n            _device.set_device_id(device_id)\n        devices.append(_device)\n        # To calculate loss\n        real_device_id_to_position_map[device_id] = [point.x, point.y]\n    \n    known_devices = [device for device in devices if device.has_device_id()]\n    device_id_candidates = set(test_device_id_list)\n    \n    model = ModelGreed(devices)\n    model.fit(df_events)\n    model.map_unknowns(test_device_id_list)\n    \n    # Calculate loss\n    loss = 0\n    for device in devices:\n        position = device.position\n        real_position = real_device_id_to_position_map.get(device.device_id)\n        loss += ((position[0] - real_position[0])**2 + (position[1] - real_position[1])**2)**0.5\n\n    errors.append(loss)",
   "metadata": {
    "tags": [],
    "cell_id": "00014-bf0b8ce8-e08e-4124-ac03-f7148d12f2cc",
    "deepnote_to_be_reexecuted": false,
    "source_hash": "109f1d75",
    "execution_start": 1637405586907,
    "execution_millis": 458994,
    "deepnote_cell_type": "code"
   },
   "outputs": [
    {
     "name": "stdout",
     "text": "... estimating loss for split: 0.1\n",
     "output_type": "stream"
    }
   ],
   "execution_count": 20
  },
  {
   "cell_type": "code",
   "source": "df = pd.DataFrame()\ndf['split'] = splits\ndf['error'] = errors\n\n_ = df.set_index('split').error.plot(figsize=(15, 8), grid=True)",
   "metadata": {
    "tags": [],
    "cell_id": "00014-5768f572-b304-4447-8efc-b8a6f57fac01",
    "deepnote_to_be_reexecuted": true,
    "source_hash": "65beb42e",
    "execution_start": 1637405407344,
    "execution_millis": 44,
    "deepnote_cell_type": "code"
   },
   "outputs": [
    {
     "output_type": "error",
     "ename": "NameError",
     "evalue": "name 'pd' is not defined",
     "traceback": [
      "\u001b[0;31m---------------------------------------------------------------------------\u001b[0m",
      "\u001b[0;31mNameError\u001b[0m                                 Traceback (most recent call last)",
      "\u001b[0;32m<ipython-input-21-c034dcccbc50>\u001b[0m in \u001b[0;36m<module>\u001b[0;34m\u001b[0m\n\u001b[0;32m----> 1\u001b[0;31m \u001b[0mdf\u001b[0m \u001b[0;34m=\u001b[0m \u001b[0mpd\u001b[0m\u001b[0;34m.\u001b[0m\u001b[0mDataFrame\u001b[0m\u001b[0;34m(\u001b[0m\u001b[0;34m)\u001b[0m\u001b[0;34m\u001b[0m\u001b[0;34m\u001b[0m\u001b[0m\n\u001b[0m\u001b[1;32m      2\u001b[0m \u001b[0mdf\u001b[0m\u001b[0;34m[\u001b[0m\u001b[0;34m'splits'\u001b[0m\u001b[0;34m]\u001b[0m \u001b[0;34m=\u001b[0m \u001b[0msplits\u001b[0m\u001b[0;34m\u001b[0m\u001b[0;34m\u001b[0m\u001b[0m\n\u001b[1;32m      3\u001b[0m \u001b[0mdf\u001b[0m\u001b[0;34m[\u001b[0m\u001b[0;34m'erros'\u001b[0m\u001b[0;34m]\u001b[0m \u001b[0;34m=\u001b[0m \u001b[0merros\u001b[0m\u001b[0;34m\u001b[0m\u001b[0;34m\u001b[0m\u001b[0m\n\u001b[1;32m      4\u001b[0m \u001b[0;34m\u001b[0m\u001b[0m\n\u001b[1;32m      5\u001b[0m \u001b[0m_\u001b[0m \u001b[0;34m=\u001b[0m \u001b[0mdf\u001b[0m\u001b[0;34m.\u001b[0m\u001b[0mset_index\u001b[0m\u001b[0;34m(\u001b[0m\u001b[0;34m'splits'\u001b[0m\u001b[0;34m)\u001b[0m\u001b[0;34m.\u001b[0m\u001b[0merros\u001b[0m\u001b[0;34m.\u001b[0m\u001b[0mplot\u001b[0m\u001b[0;34m(\u001b[0m\u001b[0mfigsize\u001b[0m\u001b[0;34m=\u001b[0m\u001b[0;34m(\u001b[0m\u001b[0;36m15\u001b[0m\u001b[0;34m,\u001b[0m \u001b[0;36m8\u001b[0m\u001b[0;34m)\u001b[0m\u001b[0;34m,\u001b[0m \u001b[0mgrid\u001b[0m\u001b[0;34m=\u001b[0m\u001b[0;32mTrue\u001b[0m\u001b[0;34m)\u001b[0m\u001b[0;34m\u001b[0m\u001b[0;34m\u001b[0m\u001b[0m\n",
      "\u001b[0;31mNameError\u001b[0m: name 'pd' is not defined"
     ]
    }
   ],
   "execution_count": 21
  },
  {
   "cell_type": "code",
   "source": "",
   "metadata": {
    "tags": [],
    "cell_id": "00015-3bd62f5f-c760-481d-950e-22228cd45257",
    "deepnote_to_be_reexecuted": true,
    "source_hash": "b623e53d",
    "deepnote_cell_type": "code"
   },
   "outputs": [],
   "execution_count": null
  },
  {
   "cell_type": "code",
   "source": "",
   "metadata": {
    "tags": [],
    "cell_id": "00016-567cb392-687b-44b6-815e-7cf6b6b4bc67",
    "deepnote_cell_type": "code"
   },
   "outputs": [],
   "execution_count": null
  },
  {
   "cell_type": "markdown",
   "source": "<a style='text-decoration:none;line-height:16px;display:flex;color:#5B5B62;padding:10px;justify-content:end;' href='https://deepnote.com?utm_source=created-in-deepnote-cell&projectId=e19bc3ac-22fd-4ca3-9f23-d099570b4b40' target=\"_blank\">\n<img alt='Created in deepnote.com' style='display:inline;max-height:16px;margin:0px;margin-right:7.5px;' src='data:image/svg+xml;base64,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' > </img>\nCreated in <span style='font-weight:600;margin-left:4px;'>Deepnote</span></a>",
   "metadata": {
    "tags": [],
    "created_in_deepnote_cell": true,
    "deepnote_cell_type": "markdown"
   }
  }
 ],
 "nbformat": 4,
 "nbformat_minor": 2,
 "metadata": {
  "orig_nbformat": 2,
  "deepnote": {
   "is_reactive": false
  },
  "deepnote_notebook_id": "1f543409-5418-4b75-8f0f-20bea6b16a52",
  "deepnote_execution_queue": [
   {
    "cellId": "00014-bf0b8ce8-e08e-4124-ac03-f7148d12f2cc",
    "sessionId": "b17cf31c-04b4-4f8e-ae6d-849611b59d35",
    "msgId": "2f173387-b836-4547-9dcd-10276d136a5f"
   },
   {
    "cellId": "00014-5768f572-b304-4447-8efc-b8a6f57fac01",
    "sessionId": "b17cf31c-04b4-4f8e-ae6d-849611b59d35",
    "msgId": "a79bd1e7-011d-4d9f-ab6d-70517df30ca8"
   }
  ]
 }
}
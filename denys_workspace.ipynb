{
 "cells": [
  {
   "cell_type": "markdown",
   "source": "# Workspace - Challenge 1",
   "metadata": {
    "tags": [],
    "deepnote_to_be_reexecuted": false,
    "source_hash": "ff0d19bf",
    "execution_start": 1637396172855,
    "execution_millis": 0,
    "cell_id": "00000-30c9fc74-ce0a-4e1f-9564-3c9633abf39a",
    "deepnote_cell_type": "markdown"
   }
  },
  {
   "cell_type": "code",
   "metadata": {
    "tags": [],
    "deepnote_to_be_reexecuted": false,
    "source_hash": "2f19d1f9",
    "execution_start": 1637407401762,
    "execution_millis": 23,
    "cell_id": "00001-81160726-be75-4b23-be08-93b93c70c82e",
    "deepnote_cell_type": "code"
   },
   "source": "%load_ext autoreload\n%autoreload 2",
   "outputs": [],
   "execution_count": null
  },
  {
   "cell_type": "code",
   "metadata": {
    "tags": [],
    "deepnote_to_be_reexecuted": false,
    "source_hash": "c2602aa8",
    "execution_start": 1637407401827,
    "execution_millis": 44,
    "cell_id": "00002-bc61d4b6-43c3-4123-9f2b-dcc69fafb37a",
    "deepnote_cell_type": "code"
   },
   "source": "import numpy as np",
   "outputs": [],
   "execution_count": null
  },
  {
   "cell_type": "code",
   "metadata": {
    "tags": [],
    "deepnote_to_be_reexecuted": false,
    "source_hash": "af96b0fc",
    "execution_start": 1637407401914,
    "execution_millis": 918,
    "cell_id": "00003-d5cdc2fb-d9bf-43fe-94df-54476b555872",
    "deepnote_cell_type": "code"
   },
   "source": "from lumen.io import read_events\nfrom lumen.io import read_positions\nfrom lumen.util import extract_device_events\n\nfrom lumen.device import Device\nfrom lumen.model_greed_cached import ModelGreedCached\nimport pandas as pd",
   "outputs": [],
   "execution_count": null
  },
  {
   "cell_type": "markdown",
   "source": "## Read data",
   "metadata": {
    "tags": [],
    "cell_id": "00004-325fc5d5-fc2e-488d-b99f-551fcbd6e588",
    "deepnote_cell_type": "markdown"
   }
  },
  {
   "cell_type": "code",
   "metadata": {
    "tags": [],
    "deepnote_to_be_reexecuted": false,
    "source_hash": "62411da5",
    "execution_start": 1637407402863,
    "execution_millis": 4204,
    "cell_id": "00005-66f1ff5d-b019-435a-8e72-ce09d92a0fc7",
    "deepnote_cell_type": "code"
   },
   "source": "df_events = read_events('site_1')\ndf_positions = read_positions('site_1')",
   "outputs": [],
   "execution_count": null
  },
  {
   "cell_type": "code",
   "metadata": {
    "tags": [],
    "deepnote_to_be_reexecuted": false,
    "source_hash": "b927151d",
    "execution_start": 1637407407085,
    "execution_millis": 159298,
    "cell_id": "00011-9b93cff7-428e-48f0-b03d-acbce696635e",
    "deepnote_output_heights": [
     496
    ],
    "deepnote_cell_type": "code"
   },
   "source": "model = ModelGreedCached()\nmodel.fit(df_events)",
   "outputs": [],
   "execution_count": null
  },
  {
   "cell_type": "code",
   "metadata": {
    "tags": [],
    "deepnote_to_be_reexecuted": false,
    "source_hash": "f46b805e",
    "execution_start": 1637407566384,
    "execution_millis": 7377,
    "cell_id": "00006-6b5b70c9-89bd-4509-9885-cbfcbae792e5",
    "deepnote_cell_type": "code"
   },
   "source": "events_map = extract_device_events(df_events)\nprint(f\"Number of mapped devices: {len(events_map.keys())}\")",
   "outputs": [
    {
     "name": "stdout",
     "text": "Number of mapped devices: 56\n",
     "output_type": "stream"
    }
   ],
   "execution_count": null
  },
  {
   "cell_type": "code",
   "metadata": {
    "tags": [],
    "deepnote_to_be_reexecuted": false,
    "source_hash": "d8bcc2e",
    "execution_start": 1637407592357,
    "execution_millis": 53,
    "deepnote_output_heights": [
     21
    ],
    "cell_id": "00007-9b604fb5-f839-456a-98a3-adfaccf72311",
    "deepnote_cell_type": "code"
   },
   "source": "device_id_list = sorted(df_events.deviceid.unique())\n\ntrain_size = int(0.1 * len(device_id_list))\ntrain_device_id_list = np.random.choice(device_id_list, train_size, replace=False)\ntest_device_id_list = [x for x in device_id_list if x not in train_device_id_list]\n\nlen(train_device_id_list), len(test_device_id_list)",
   "outputs": [
    {
     "output_type": "execute_result",
     "execution_count": 13,
     "data": {
      "text/plain": "(5, 51)"
     },
     "metadata": {}
    }
   ],
   "execution_count": null
  },
  {
   "cell_type": "code",
   "metadata": {
    "tags": [],
    "deepnote_to_be_reexecuted": true,
    "source_hash": "330555a3",
    "execution_start": 1637407573866,
    "execution_millis": 34,
    "cell_id": "00008-18a2a7b2-fa00-47f2-9757-4df863127d7e",
    "deepnote_cell_type": "code"
   },
   "source": "devices_pos = df_positions.set_index('deviceid')",
   "outputs": [],
   "execution_count": null
  },
  {
   "cell_type": "code",
   "metadata": {
    "tags": [],
    "deepnote_to_be_reexecuted": false,
    "source_hash": "b435b8e4",
    "execution_start": 1637407595050,
    "execution_millis": 92,
    "cell_id": "00009-f8049ae4-65b2-45ab-8941-7ab1390d9530",
    "deepnote_cell_type": "code"
   },
   "source": "devices = []\nreal_device_id_to_position_map = {}\n\nfor device_id in device_id_list:\n    point = devices_pos.loc[device_id]\n    position = [point.x, point.y]\n    _device = Device(position=position, device_id=None)    \n    if device_id in train_device_id_list:\n        # Add as known device\n        _device.set_device_id(device_id)\n\n    devices.append(_device)\n    # To calculate loss\n    real_device_id_to_position_map[device_id] = [point.x, point.y]",
   "outputs": [],
   "execution_count": null
  },
  {
   "cell_type": "code",
   "metadata": {
    "tags": [],
    "deepnote_to_be_reexecuted": false,
    "source_hash": "acb00db9",
    "execution_start": 1637407596580,
    "execution_millis": 44,
    "deepnote_output_heights": [
     21
    ],
    "cell_id": "00010-eedab5bb-a343-48c0-bad3-c7004f3fe73a",
    "deepnote_cell_type": "code"
   },
   "source": "known_devices = [device for device in devices if device.has_device_id()]\ndevice_id_candidates = set(test_device_id_list)\n\nlen(known_devices), len(device_id_candidates)",
   "outputs": [
    {
     "output_type": "execute_result",
     "execution_count": 15,
     "data": {
      "text/plain": "(5, 51)"
     },
     "metadata": {}
    }
   ],
   "execution_count": null
  },
  {
   "cell_type": "code",
   "metadata": {
    "tags": [],
    "cell_id": "00012-ab73d2b3-7e58-4c6a-91a3-75cfd8a03e92",
    "deepnote_to_be_reexecuted": false,
    "source_hash": "fc22f20a",
    "execution_start": 1637407598286,
    "execution_millis": 113,
    "deepnote_output_heights": [
     382
    ],
    "deepnote_cell_type": "code"
   },
   "source": "model.map_unknowns(devices, test_device_id_list)",
   "outputs": [],
   "execution_count": null
  },
  {
   "cell_type": "code",
   "metadata": {
    "tags": [],
    "deepnote_to_be_reexecuted": false,
    "source_hash": "4b20168f",
    "execution_start": 1637407603360,
    "execution_millis": 75,
    "deepnote_output_heights": [
     21
    ],
    "cell_id": "00012-c1b0a323-0c91-4678-81cd-1215ca647ef1",
    "deepnote_cell_type": "code"
   },
   "source": "# Calculate loss\nloss = 0\nfor device in devices:\n    position = device.position\n    real_position = real_device_id_to_position_map.get(device.device_id)\n    loss += ((position[0] - real_position[0])**2 + (position[1] - real_position[1])**2)**0.5\n\nloss",
   "outputs": [
    {
     "output_type": "execute_result",
     "execution_count": 17,
     "data": {
      "text/plain": "35533.76991877497"
     },
     "metadata": {}
    }
   ],
   "execution_count": null
  },
  {
   "cell_type": "code",
   "metadata": {
    "tags": [],
    "deepnote_to_be_reexecuted": false,
    "source_hash": "ee23e03f",
    "execution_start": 1637407936260,
    "execution_millis": 1718,
    "cell_id": "00013-b278b72a-b81a-4737-a8f7-d6a9aab5f9fb",
    "deepnote_output_heights": [
     null,
     457.15625
    ],
    "deepnote_cell_type": "code"
   },
   "source": "_error = []\n_split = []\n\nsplits = [0.1, 0.2, 0.5, 0.7, 0.9]\n\nfor i in range(10):\n    print(f\"... run: {i}\")\n\n    for split in splits:\n        train_size = int(split * len(device_id_list))\n        train_device_id_list = np.random.choice(device_id_list, train_size, replace=False)\n        test_device_id_list = [x for x in device_id_list if x not in train_device_id_list]\n        \n        devices = []\n        real_device_id_to_position_map = {}\n        for device_id in device_id_list:\n            point = devices_pos.loc[device_id]\n            position = [point.x, point.y]\n            _device = Device(position=position, device_id=None)    \n            if device_id in train_device_id_list:\n                # Add as known device\n                _device.set_device_id(device_id)\n            devices.append(_device)\n            # To calculate loss\n            real_device_id_to_position_map[device_id] = [point.x, point.y]\n        \n        known_devices = [device for device in devices if device.has_device_id()]\n        device_id_candidates = set(test_device_id_list)\n        \n        \n        model.map_unknowns(devices, test_device_id_list)\n        \n        # Calculate loss\n        loss = 0\n        for device in devices:\n            position = device.position\n            real_position = real_device_id_to_position_map.get(device.device_id)\n            loss += ((position[0] - real_position[0])**2 + (position[1] - real_position[1])**2)**0.5\n\n        _split.append(split)\n        _error.append(loss)",
   "outputs": [
    {
     "name": "stdout",
     "text": "... run: 0\n... run: 1\n... run: 2\n... run: 3\n... run: 4\n... run: 5\n... run: 6\n... run: 7\n... run: 8\n... run: 9\n",
     "output_type": "stream"
    }
   ],
   "execution_count": null
  },
  {
   "cell_type": "code",
   "metadata": {
    "tags": [],
    "cell_id": "00014-f96e904f-18ed-4d4b-85da-31f87df484a8",
    "deepnote_to_be_reexecuted": false,
    "source_hash": "78afd2f4",
    "execution_start": 1637408018497,
    "execution_millis": 901,
    "deepnote_output_heights": [
     462.84375
    ],
    "deepnote_cell_type": "code"
   },
   "source": "df = pd.DataFrame()\ndf['split'] = _split\ndf['error'] = _error\nyerr = df.groupby('split').error.std()\n\n_ = df.groupby('split').error.mean().plot.bar(figsize=(15, 8), grid=True, yerr=yerr, capsize=4)",
   "outputs": [
    {
     "data": {
      "text/plain": "<Figure size 1080x576 with 1 Axes>",
      "image/png": "[encoded data removed]"
     },
     "metadata": {
      "needs_background": "light",
      "image/png": {
       "width": 889,
       "height": 486
      }
     },
     "output_type": "display_data"
    }
   ],
   "execution_count": null
  },
  {
   "cell_type": "code",
   "metadata": {
    "tags": [],
    "cell_id": "00016-7591187c-5e46-4018-a3f1-d99c54dedd24",
    "deepnote_cell_type": "code"
   },
   "source": "",
   "outputs": [],
   "execution_count": null
  },
  {
   "cell_type": "markdown",
   "source": "<a style='text-decoration:none;line-height:16px;display:flex;color:#5B5B62;padding:10px;justify-content:end;' href='https://deepnote.com?utm_source=created-in-deepnote-cell&projectId=e19bc3ac-22fd-4ca3-9f23-d099570b4b40' target=\"_blank\">\n<img alt='Created in deepnote.com' style='display:inline;max-height:16px;margin:0px;margin-right:7.5px;' src='data:image/svg+xml;base64,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' > </img>\nCreated in <span style='font-weight:600;margin-left:4px;'>Deepnote</span></a>",
   "metadata": {
    "tags": [],
    "created_in_deepnote_cell": true,
    "deepnote_cell_type": "markdown"
   }
  }
 ],
 "nbformat": 4,
 "nbformat_minor": 2,
 "metadata": {
  "orig_nbformat": 2,
  "deepnote": {
   "is_reactive": false
  },
  "deepnote_notebook_id": "38d1c2e7-349b-4165-9237-bb881029f18c",
  "deepnote_execution_queue": []
 }
}
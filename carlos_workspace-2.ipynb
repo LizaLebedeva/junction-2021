{
 "cells": [
  {
   "cell_type": "markdown",
   "source": "# Workspace - Challenge 1",
   "metadata": {
    "tags": [],
    "deepnote_to_be_reexecuted": false,
    "source_hash": "ff0d19bf",
    "execution_start": 1637396172855,
    "execution_millis": 0,
    "cell_id": "00000-30c9fc74-ce0a-4e1f-9564-3c9633abf39a",
    "deepnote_cell_type": "markdown"
   }
  },
  {
   "cell_type": "code",
   "metadata": {
    "tags": [],
    "deepnote_to_be_reexecuted": false,
    "source_hash": "2f19d1f9",
    "execution_start": 1637405723784,
    "execution_millis": 43,
    "cell_id": "00001-81160726-be75-4b23-be08-93b93c70c82e",
    "deepnote_cell_type": "code"
   },
   "source": "%load_ext autoreload\n%autoreload 2",
   "execution_count": 1,
   "outputs": []
  },
  {
   "cell_type": "code",
   "metadata": {
    "tags": [],
    "deepnote_to_be_reexecuted": false,
    "source_hash": "c2602aa8",
    "execution_start": 1637405723836,
    "execution_millis": 74,
    "cell_id": "00002-bc61d4b6-43c3-4123-9f2b-dcc69fafb37a",
    "deepnote_cell_type": "code"
   },
   "source": "import numpy as np",
   "execution_count": 2,
   "outputs": []
  },
  {
   "cell_type": "code",
   "metadata": {
    "tags": [],
    "deepnote_to_be_reexecuted": false,
    "source_hash": "af96b0fc",
    "execution_start": 1637405723911,
    "execution_millis": 1253,
    "cell_id": "00003-d5cdc2fb-d9bf-43fe-94df-54476b555872",
    "deepnote_cell_type": "code"
   },
   "source": "from lumen.io import read_events\nfrom lumen.io import read_positions\nfrom lumen.util import extract_device_events\n\nfrom lumen.device import Device\nfrom lumen.model_greed_cached import ModelGreedCached",
   "execution_count": 3,
   "outputs": []
  },
  {
   "cell_type": "markdown",
   "source": "## Read data",
   "metadata": {
    "tags": [],
    "cell_id": "00004-325fc5d5-fc2e-488d-b99f-551fcbd6e588",
    "deepnote_cell_type": "markdown"
   }
  },
  {
   "cell_type": "code",
   "metadata": {
    "tags": [],
    "deepnote_to_be_reexecuted": false,
    "source_hash": "62411da5",
    "execution_start": 1637405725180,
    "execution_millis": 4724,
    "cell_id": "00005-66f1ff5d-b019-435a-8e72-ce09d92a0fc7",
    "deepnote_cell_type": "code"
   },
   "source": "df_events = read_events('site_1')\ndf_positions = read_positions('site_1')",
   "execution_count": 4,
   "outputs": []
  },
  {
   "cell_type": "code",
   "metadata": {
    "tags": [],
    "deepnote_to_be_reexecuted": false,
    "source_hash": "f46b805e",
    "execution_start": 1637405729912,
    "execution_millis": 7383,
    "cell_id": "00006-6b5b70c9-89bd-4509-9885-cbfcbae792e5",
    "deepnote_cell_type": "code"
   },
   "source": "events_map = extract_device_events(df_events)\nprint(f\"Number of mapped devices: {len(events_map.keys())}\")",
   "execution_count": 5,
   "outputs": [
    {
     "name": "stdout",
     "text": "Number of mapped devices: 56\n",
     "output_type": "stream"
    }
   ]
  },
  {
   "cell_type": "code",
   "metadata": {
    "tags": [],
    "deepnote_to_be_reexecuted": false,
    "source_hash": "d8bcc2e",
    "execution_start": 1637405737305,
    "execution_millis": 68,
    "deepnote_output_heights": [
     21
    ],
    "cell_id": "00007-9b604fb5-f839-456a-98a3-adfaccf72311",
    "deepnote_cell_type": "code"
   },
   "source": "device_id_list = sorted(df_events.deviceid.unique())\n\ntrain_size = int(0.1 * len(device_id_list))\ntrain_device_id_list = np.random.choice(device_id_list, train_size, replace=False)\ntest_device_id_list = [x for x in device_id_list if x not in train_device_id_list]\n\nlen(train_device_id_list), len(test_device_id_list)",
   "execution_count": 6,
   "outputs": [
    {
     "output_type": "execute_result",
     "execution_count": 6,
     "data": {
      "text/plain": "(5, 51)"
     },
     "metadata": {}
    }
   ]
  },
  {
   "cell_type": "code",
   "metadata": {
    "tags": [],
    "deepnote_to_be_reexecuted": false,
    "source_hash": "330555a3",
    "execution_start": 1637405737379,
    "execution_millis": 62,
    "cell_id": "00008-18a2a7b2-fa00-47f2-9757-4df863127d7e",
    "deepnote_cell_type": "code"
   },
   "source": "devices_pos = df_positions.set_index('deviceid')",
   "execution_count": 7,
   "outputs": []
  },
  {
   "cell_type": "code",
   "metadata": {
    "tags": [],
    "deepnote_to_be_reexecuted": false,
    "source_hash": "b435b8e4",
    "execution_start": 1637405737455,
    "execution_millis": 75,
    "cell_id": "00009-f8049ae4-65b2-45ab-8941-7ab1390d9530",
    "deepnote_cell_type": "code"
   },
   "source": "devices = []\nreal_device_id_to_position_map = {}\n\nfor device_id in device_id_list:\n    point = devices_pos.loc[device_id]\n    position = [point.x, point.y]\n    _device = Device(position=position, device_id=None)    \n    if device_id in train_device_id_list:\n        # Add as known device\n        _device.set_device_id(device_id)\n\n    devices.append(_device)\n    # To calculate loss\n    real_device_id_to_position_map[device_id] = [point.x, point.y]",
   "execution_count": 8,
   "outputs": []
  },
  {
   "cell_type": "code",
   "metadata": {
    "tags": [],
    "deepnote_to_be_reexecuted": false,
    "source_hash": "acb00db9",
    "execution_start": 1637405737546,
    "execution_millis": 76,
    "deepnote_output_heights": [
     21
    ],
    "cell_id": "00010-eedab5bb-a343-48c0-bad3-c7004f3fe73a",
    "deepnote_cell_type": "code"
   },
   "source": "known_devices = [device for device in devices if device.has_device_id()]\ndevice_id_candidates = set(test_device_id_list)\n\nlen(known_devices), len(device_id_candidates)",
   "execution_count": 9,
   "outputs": [
    {
     "output_type": "execute_result",
     "execution_count": 9,
     "data": {
      "text/plain": "(5, 51)"
     },
     "metadata": {}
    }
   ]
  },
  {
   "cell_type": "code",
   "metadata": {
    "tags": [],
    "deepnote_to_be_reexecuted": false,
    "source_hash": "736fce64",
    "execution_start": 1637405737631,
    "execution_millis": 126983,
    "cell_id": "00011-9b93cff7-428e-48f0-b03d-acbce696635e",
    "deepnote_cell_type": "code"
   },
   "source": "model = ModelGreedCached(devices)\nmodel.fit(df_events)",
   "outputs": [],
   "execution_count": null
  },
  {
   "cell_type": "code",
   "source": "model.map_unknowns(test_device_id_list)",
   "metadata": {
    "tags": [],
    "cell_id": "00012-ab73d2b3-7e58-4c6a-91a3-75cfd8a03e92",
    "deepnote_to_be_reexecuted": true,
    "source_hash": "56f66af1",
    "execution_start": 1637405678027,
    "execution_millis": 891,
    "deepnote_cell_type": "code"
   },
   "outputs": [
    {
     "output_type": "error",
     "ename": "NameError",
     "evalue": "name 'get_dict_key_for_cache_from_ids' is not defined",
     "traceback": [
      "\u001b[0;31m---------------------------------------------------------------------------\u001b[0m",
      "\u001b[0;31mNameError\u001b[0m                                 Traceback (most recent call last)",
      "\u001b[0;32m<ipython-input-11-b69963a8fd35>\u001b[0m in \u001b[0;36m<module>\u001b[0;34m\u001b[0m\n\u001b[0;32m----> 1\u001b[0;31m \u001b[0mmodel\u001b[0m\u001b[0;34m.\u001b[0m\u001b[0mmap_unknowns\u001b[0m\u001b[0;34m(\u001b[0m\u001b[0mtest_device_id_list\u001b[0m\u001b[0;34m)\u001b[0m\u001b[0;34m\u001b[0m\u001b[0;34m\u001b[0m\u001b[0m\n\u001b[0m",
      "\u001b[0;32m/work/junction-2021/lumen/model_greed_cached.py\u001b[0m in \u001b[0;36mmap_unknowns\u001b[0;34m(self, device_id_candidates)\u001b[0m\n\u001b[1;32m     74\u001b[0m                 \u001b[0;32mfor\u001b[0m \u001b[0mnear_node\u001b[0m \u001b[0;32min\u001b[0m \u001b[0mnear_devices\u001b[0m\u001b[0;34m:\u001b[0m\u001b[0;34m\u001b[0m\u001b[0;34m\u001b[0m\u001b[0m\n\u001b[1;32m     75\u001b[0m                     \u001b[0mref_device\u001b[0m \u001b[0;34m=\u001b[0m \u001b[0mnear_node\u001b[0m\u001b[0;34m[\u001b[0m\u001b[0;36m0\u001b[0m\u001b[0;34m]\u001b[0m\u001b[0;34m\u001b[0m\u001b[0;34m\u001b[0m\u001b[0m\n\u001b[0;32m---> 76\u001b[0;31m                     \u001b[0mcorr\u001b[0m \u001b[0;34m=\u001b[0m \u001b[0mself\u001b[0m\u001b[0;34m.\u001b[0m\u001b[0mget_correlation\u001b[0m\u001b[0;34m(\u001b[0m\u001b[0mref_device\u001b[0m\u001b[0;34m.\u001b[0m\u001b[0mdevice_id\u001b[0m\u001b[0;34m,\u001b[0m \u001b[0mcandidate_device_id\u001b[0m\u001b[0;34m)\u001b[0m\u001b[0;34m\u001b[0m\u001b[0;34m\u001b[0m\u001b[0m\n\u001b[0m\u001b[1;32m     77\u001b[0m                     \u001b[0mscore\u001b[0m \u001b[0;34m+=\u001b[0m \u001b[0mcorr\u001b[0m\u001b[0;34m\u001b[0m\u001b[0;34m\u001b[0m\u001b[0m\n\u001b[1;32m     78\u001b[0m                 \u001b[0mcandidates\u001b[0m\u001b[0;34m.\u001b[0m\u001b[0mappend\u001b[0m\u001b[0;34m(\u001b[0m\u001b[0;34m[\u001b[0m\u001b[0mcandidate_device_id\u001b[0m\u001b[0;34m,\u001b[0m \u001b[0mscore\u001b[0m\u001b[0;34m]\u001b[0m\u001b[0;34m)\u001b[0m\u001b[0;34m\u001b[0m\u001b[0;34m\u001b[0m\u001b[0m\n",
      "\u001b[0;32m/work/junction-2021/lumen/model_greed_cached.py\u001b[0m in \u001b[0;36mget_correlation\u001b[0;34m(self, device1, device2)\u001b[0m\n\u001b[1;32m     28\u001b[0m \u001b[0;34m\u001b[0m\u001b[0m\n\u001b[1;32m     29\u001b[0m     \u001b[0;32mdef\u001b[0m \u001b[0mget_correlation\u001b[0m\u001b[0;34m(\u001b[0m\u001b[0mself\u001b[0m\u001b[0;34m,\u001b[0m \u001b[0mdevice1\u001b[0m\u001b[0;34m,\u001b[0m \u001b[0mdevice2\u001b[0m\u001b[0;34m)\u001b[0m\u001b[0;34m:\u001b[0m\u001b[0;34m\u001b[0m\u001b[0;34m\u001b[0m\u001b[0m\n\u001b[0;32m---> 30\u001b[0;31m         \u001b[0;32mreturn\u001b[0m \u001b[0mself\u001b[0m\u001b[0;34m.\u001b[0m\u001b[0mcache\u001b[0m\u001b[0;34m[\u001b[0m\u001b[0mget_dict_key_for_cache_from_ids\u001b[0m\u001b[0;34m(\u001b[0m\u001b[0mdevice1\u001b[0m\u001b[0;34m,\u001b[0m \u001b[0mdevice2\u001b[0m\u001b[0;34m)\u001b[0m\u001b[0;34m]\u001b[0m\u001b[0;34m\u001b[0m\u001b[0;34m\u001b[0m\u001b[0m\n\u001b[0m\u001b[1;32m     31\u001b[0m \u001b[0;34m\u001b[0m\u001b[0m\n\u001b[1;32m     32\u001b[0m     \u001b[0;32mdef\u001b[0m \u001b[0mfit\u001b[0m\u001b[0;34m(\u001b[0m\u001b[0mself\u001b[0m\u001b[0;34m,\u001b[0m \u001b[0mdf_events\u001b[0m\u001b[0;34m)\u001b[0m\u001b[0;34m:\u001b[0m\u001b[0;34m\u001b[0m\u001b[0;34m\u001b[0m\u001b[0m\n",
      "\u001b[0;31mNameError\u001b[0m: name 'get_dict_key_for_cache_from_ids' is not defined"
     ]
    }
   ],
   "execution_count": null
  },
  {
   "cell_type": "code",
   "metadata": {
    "tags": [],
    "deepnote_to_be_reexecuted": true,
    "source_hash": "4b20168f",
    "execution_start": 1637404256787,
    "execution_millis": 346,
    "deepnote_output_heights": [
     21
    ],
    "cell_id": "00012-c1b0a323-0c91-4678-81cd-1215ca647ef1",
    "deepnote_cell_type": "code"
   },
   "source": "# Calculate loss\nloss = 0\nfor device in devices:\n    position = device.position\n    real_position = real_device_id_to_position_map.get(device.device_id)\n    loss += ((position[0] - real_position[0])**2 + (position[1] - real_position[1])**2)**0.5\n\nloss",
   "outputs": [
    {
     "output_type": "execute_result",
     "execution_count": 18,
     "data": {
      "text/plain": "5312.234049355525"
     },
     "metadata": {}
    }
   ],
   "execution_count": null
  },
  {
   "cell_type": "code",
   "metadata": {
    "tags": [],
    "deepnote_to_be_reexecuted": true,
    "source_hash": "b623e53d",
    "execution_start": 1637404257141,
    "execution_millis": 4,
    "cell_id": "00013-b278b72a-b81a-4737-a8f7-d6a9aab5f9fb",
    "deepnote_cell_type": "code"
   },
   "source": "",
   "outputs": [],
   "execution_count": null
  },
  {
   "cell_type": "code",
   "metadata": {
    "tags": [],
    "cell_id": "00014-f96e904f-18ed-4d4b-85da-31f87df484a8",
    "deepnote_to_be_reexecuted": true,
    "source_hash": "b623e53d",
    "deepnote_cell_type": "code"
   },
   "source": "",
   "execution_count": null,
   "outputs": []
  },
  {
   "cell_type": "markdown",
   "source": "<a style='text-decoration:none;line-height:16px;display:flex;color:#5B5B62;padding:10px;justify-content:end;' href='https://deepnote.com?utm_source=created-in-deepnote-cell&projectId=e19bc3ac-22fd-4ca3-9f23-d099570b4b40' target=\"_blank\">\n<img alt='Created in deepnote.com' style='display:inline;max-height:16px;margin:0px;margin-right:7.5px;' src='data:image/svg+xml;base64,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' > </img>\nCreated in <span style='font-weight:600;margin-left:4px;'>Deepnote</span></a>",
   "metadata": {
    "tags": [],
    "created_in_deepnote_cell": true,
    "deepnote_cell_type": "markdown"
   }
  }
 ],
 "nbformat": 4,
 "nbformat_minor": 2,
 "metadata": {
  "orig_nbformat": 2,
  "deepnote": {
   "is_reactive": false
  },
  "deepnote_notebook_id": "38d1c2e7-349b-4165-9237-bb881029f18c",
  "deepnote_execution_queue": [
   {
    "cellId": "00011-9b93cff7-428e-48f0-b03d-acbce696635e",
    "sessionId": "c67ce816-dee0-4a6b-92a6-ab9f987f5854",
    "msgId": "511c3861-f1f6-4d40-a139-3fcfda3963c0"
   },
   {
    "cellId": "00012-ab73d2b3-7e58-4c6a-91a3-75cfd8a03e92",
    "sessionId": "c67ce816-dee0-4a6b-92a6-ab9f987f5854",
    "msgId": "fcc8d89c-962a-4d49-9d8a-b39c6920f95f"
   },
   {
    "cellId": "00012-c1b0a323-0c91-4678-81cd-1215ca647ef1",
    "sessionId": "c67ce816-dee0-4a6b-92a6-ab9f987f5854",
    "msgId": "c9a97e11-cac5-4f9c-9f07-cd6295ed1dfe"
   },
   {
    "cellId": "00013-b278b72a-b81a-4737-a8f7-d6a9aab5f9fb",
    "sessionId": "c67ce816-dee0-4a6b-92a6-ab9f987f5854",
    "msgId": "e9f6add2-fd42-46aa-889d-bc6de6818aec"
   },
   {
    "cellId": "00014-f96e904f-18ed-4d4b-85da-31f87df484a8",
    "sessionId": "c67ce816-dee0-4a6b-92a6-ab9f987f5854",
    "msgId": "47ad05c8-7fab-4d02-a19d-08bdb2bbba42"
   }
  ]
 }
}
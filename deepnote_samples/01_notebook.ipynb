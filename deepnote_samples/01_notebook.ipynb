{
 "cells": [
  {
   "cell_type": "markdown",
   "source": "## The Deepnote Notebook\nThe most important part of Deepnote is the notebook. This is where the magic happens: it's where you read, analyze, and visualize your data.",
   "metadata": {
    "tags": [],
    "cell_id": "00000-06f75d06-f215-4f8b-ba02-28db85119dca",
    "deepnote_cell_type": "markdown"
   }
  },
  {
   "cell_type": "markdown",
   "source": "#### Viewing your dataframe\nEasily see the distributions, ranges, and data types of your dataset.",
   "metadata": {
    "tags": [],
    "cell_id": "00001-789332be-bc87-4247-90c9-b6d65d3b6bdb",
    "deepnote_cell_type": "markdown"
   }
  },
  {
   "cell_type": "code",
   "metadata": {
    "tags": [],
    "cell_id": "00002-fd99fb0c-ae7b-487f-941d-2b696a4780d1",
    "deepnote_to_be_reexecuted": false,
    "source_hash": "2296b22d",
    "execution_millis": 146,
    "execution_start": 1623702555805,
    "deepnote_cell_type": "code"
   },
   "source": "import pandas as pd\ndf = pd.read_csv('https://raw.githubusercontent.com/mwaskom/seaborn-data/master/flights.csv')\ndf",
   "outputs": [
    {
     "output_type": "execute_result",
     "execution_count": 1,
     "data": {
      "application/vnd.deepnote.dataframe.v2+json": {
       "row_count": 144,
       "column_count": 3,
       "columns": [
        {
         "name": "year",
         "dtype": "int64",
         "stats": {
          "unique_count": 12,
          "nan_count": 0,
          "min": "1949",
          "max": "1960",
          "histogram": [
           {
            "bin_start": 1949,
            "bin_end": 1950.1,
            "count": 24
           },
           {
            "bin_start": 1950.1,
            "bin_end": 1951.2,
            "count": 12
           },
           {
            "bin_start": 1951.2,
            "bin_end": 1952.3,
            "count": 12
           },
           {
            "bin_start": 1952.3,
            "bin_end": 1953.4,
            "count": 12
           },
           {
            "bin_start": 1953.4,
            "bin_end": 1954.5,
            "count": 12
           },
           {
            "bin_start": 1954.5,
            "bin_end": 1955.6,
            "count": 12
           },
           {
            "bin_start": 1955.6,
            "bin_end": 1956.7,
            "count": 12
           },
           {
            "bin_start": 1956.7,
            "bin_end": 1957.8,
            "count": 12
           },
           {
            "bin_start": 1957.8,
            "bin_end": 1958.9,
            "count": 12
           },
           {
            "bin_start": 1958.9,
            "bin_end": 1960,
            "count": 24
           }
          ]
         }
        },
        {
         "name": "month",
         "dtype": "object",
         "stats": {
          "unique_count": 12,
          "nan_count": 0,
          "categories": [
           {
            "name": "January",
            "count": 12
           },
           {
            "name": "February",
            "count": 12
           },
           {
            "name": "10 others",
            "count": 120
           }
          ]
         }
        },
        {
         "name": "passengers",
         "dtype": "int64",
         "stats": {
          "unique_count": 118,
          "nan_count": 0,
          "min": "104",
          "max": "622",
          "histogram": [
           {
            "bin_start": 104,
            "bin_end": 155.8,
            "count": 24
           },
           {
            "bin_start": 155.8,
            "bin_end": 207.6,
            "count": 27
           },
           {
            "bin_start": 207.6,
            "bin_end": 259.4,
            "count": 19
           },
           {
            "bin_start": 259.4,
            "bin_end": 311.2,
            "count": 18
           },
           {
            "bin_start": 311.2,
            "bin_end": 363,
            "count": 22
           },
           {
            "bin_start": 363,
            "bin_end": 414.79999999999995,
            "count": 13
           },
           {
            "bin_start": 414.79999999999995,
            "bin_end": 466.59999999999997,
            "count": 10
           },
           {
            "bin_start": 466.59999999999997,
            "bin_end": 518.4,
            "count": 6
           },
           {
            "bin_start": 518.4,
            "bin_end": 570.2,
            "count": 3
           },
           {
            "bin_start": 570.2,
            "bin_end": 622,
            "count": 2
           }
          ]
         }
        },
        {
         "name": "_deepnote_index_column",
         "dtype": "int64"
        }
       ],
       "rows_top": [
        {
         "year": 1949,
         "month": "January",
         "passengers": 112,
         "_deepnote_index_column": 0
        },
        {
         "year": 1949,
         "month": "February",
         "passengers": 118,
         "_deepnote_index_column": 1
        },
        {
         "year": 1949,
         "month": "March",
         "passengers": 132,
         "_deepnote_index_column": 2
        },
        {
         "year": 1949,
         "month": "April",
         "passengers": 129,
         "_deepnote_index_column": 3
        },
        {
         "year": 1949,
         "month": "May",
         "passengers": 121,
         "_deepnote_index_column": 4
        },
        {
         "year": 1949,
         "month": "June",
         "passengers": 135,
         "_deepnote_index_column": 5
        },
        {
         "year": 1949,
         "month": "July",
         "passengers": 148,
         "_deepnote_index_column": 6
        },
        {
         "year": 1949,
         "month": "August",
         "passengers": 148,
         "_deepnote_index_column": 7
        },
        {
         "year": 1949,
         "month": "September",
         "passengers": 136,
         "_deepnote_index_column": 8
        },
        {
         "year": 1949,
         "month": "October",
         "passengers": 119,
         "_deepnote_index_column": 9
        },
        {
         "year": 1949,
         "month": "November",
         "passengers": 104,
         "_deepnote_index_column": 10
        },
        {
         "year": 1949,
         "month": "December",
         "passengers": 118,
         "_deepnote_index_column": 11
        },
        {
         "year": 1950,
         "month": "January",
         "passengers": 115,
         "_deepnote_index_column": 12
        },
        {
         "year": 1950,
         "month": "February",
         "passengers": 126,
         "_deepnote_index_column": 13
        },
        {
         "year": 1950,
         "month": "March",
         "passengers": 141,
         "_deepnote_index_column": 14
        },
        {
         "year": 1950,
         "month": "April",
         "passengers": 135,
         "_deepnote_index_column": 15
        },
        {
         "year": 1950,
         "month": "May",
         "passengers": 125,
         "_deepnote_index_column": 16
        },
        {
         "year": 1950,
         "month": "June",
         "passengers": 149,
         "_deepnote_index_column": 17
        },
        {
         "year": 1950,
         "month": "July",
         "passengers": 170,
         "_deepnote_index_column": 18
        },
        {
         "year": 1950,
         "month": "August",
         "passengers": 170,
         "_deepnote_index_column": 19
        },
        {
         "year": 1950,
         "month": "September",
         "passengers": 158,
         "_deepnote_index_column": 20
        },
        {
         "year": 1950,
         "month": "October",
         "passengers": 133,
         "_deepnote_index_column": 21
        },
        {
         "year": 1950,
         "month": "November",
         "passengers": 114,
         "_deepnote_index_column": 22
        },
        {
         "year": 1950,
         "month": "December",
         "passengers": 140,
         "_deepnote_index_column": 23
        },
        {
         "year": 1951,
         "month": "January",
         "passengers": 145,
         "_deepnote_index_column": 24
        },
        {
         "year": 1951,
         "month": "February",
         "passengers": 150,
         "_deepnote_index_column": 25
        },
        {
         "year": 1951,
         "month": "March",
         "passengers": 178,
         "_deepnote_index_column": 26
        },
        {
         "year": 1951,
         "month": "April",
         "passengers": 163,
         "_deepnote_index_column": 27
        },
        {
         "year": 1951,
         "month": "May",
         "passengers": 172,
         "_deepnote_index_column": 28
        },
        {
         "year": 1951,
         "month": "June",
         "passengers": 178,
         "_deepnote_index_column": 29
        },
        {
         "year": 1951,
         "month": "July",
         "passengers": 199,
         "_deepnote_index_column": 30
        },
        {
         "year": 1951,
         "month": "August",
         "passengers": 199,
         "_deepnote_index_column": 31
        },
        {
         "year": 1951,
         "month": "September",
         "passengers": 184,
         "_deepnote_index_column": 32
        },
        {
         "year": 1951,
         "month": "October",
         "passengers": 162,
         "_deepnote_index_column": 33
        },
        {
         "year": 1951,
         "month": "November",
         "passengers": 146,
         "_deepnote_index_column": 34
        },
        {
         "year": 1951,
         "month": "December",
         "passengers": 166,
         "_deepnote_index_column": 35
        },
        {
         "year": 1952,
         "month": "January",
         "passengers": 171,
         "_deepnote_index_column": 36
        },
        {
         "year": 1952,
         "month": "February",
         "passengers": 180,
         "_deepnote_index_column": 37
        },
        {
         "year": 1952,
         "month": "March",
         "passengers": 193,
         "_deepnote_index_column": 38
        },
        {
         "year": 1952,
         "month": "April",
         "passengers": 181,
         "_deepnote_index_column": 39
        },
        {
         "year": 1952,
         "month": "May",
         "passengers": 183,
         "_deepnote_index_column": 40
        },
        {
         "year": 1952,
         "month": "June",
         "passengers": 218,
         "_deepnote_index_column": 41
        },
        {
         "year": 1952,
         "month": "July",
         "passengers": 230,
         "_deepnote_index_column": 42
        },
        {
         "year": 1952,
         "month": "August",
         "passengers": 242,
         "_deepnote_index_column": 43
        },
        {
         "year": 1952,
         "month": "September",
         "passengers": 209,
         "_deepnote_index_column": 44
        },
        {
         "year": 1952,
         "month": "October",
         "passengers": 191,
         "_deepnote_index_column": 45
        },
        {
         "year": 1952,
         "month": "November",
         "passengers": 172,
         "_deepnote_index_column": 46
        },
        {
         "year": 1952,
         "month": "December",
         "passengers": 194,
         "_deepnote_index_column": 47
        },
        {
         "year": 1953,
         "month": "January",
         "passengers": 196,
         "_deepnote_index_column": 48
        },
        {
         "year": 1953,
         "month": "February",
         "passengers": 196,
         "_deepnote_index_column": 49
        },
        {
         "year": 1953,
         "month": "March",
         "passengers": 236,
         "_deepnote_index_column": 50
        },
        {
         "year": 1953,
         "month": "April",
         "passengers": 235,
         "_deepnote_index_column": 51
        },
        {
         "year": 1953,
         "month": "May",
         "passengers": 229,
         "_deepnote_index_column": 52
        },
        {
         "year": 1953,
         "month": "June",
         "passengers": 243,
         "_deepnote_index_column": 53
        },
        {
         "year": 1953,
         "month": "July",
         "passengers": 264,
         "_deepnote_index_column": 54
        },
        {
         "year": 1953,
         "month": "August",
         "passengers": 272,
         "_deepnote_index_column": 55
        },
        {
         "year": 1953,
         "month": "September",
         "passengers": 237,
         "_deepnote_index_column": 56
        },
        {
         "year": 1953,
         "month": "October",
         "passengers": 211,
         "_deepnote_index_column": 57
        },
        {
         "year": 1953,
         "month": "November",
         "passengers": 180,
         "_deepnote_index_column": 58
        },
        {
         "year": 1953,
         "month": "December",
         "passengers": 201,
         "_deepnote_index_column": 59
        },
        {
         "year": 1954,
         "month": "January",
         "passengers": 204,
         "_deepnote_index_column": 60
        },
        {
         "year": 1954,
         "month": "February",
         "passengers": 188,
         "_deepnote_index_column": 61
        },
        {
         "year": 1954,
         "month": "March",
         "passengers": 235,
         "_deepnote_index_column": 62
        },
        {
         "year": 1954,
         "month": "April",
         "passengers": 227,
         "_deepnote_index_column": 63
        },
        {
         "year": 1954,
         "month": "May",
         "passengers": 234,
         "_deepnote_index_column": 64
        },
        {
         "year": 1954,
         "month": "June",
         "passengers": 264,
         "_deepnote_index_column": 65
        },
        {
         "year": 1954,
         "month": "July",
         "passengers": 302,
         "_deepnote_index_column": 66
        },
        {
         "year": 1954,
         "month": "August",
         "passengers": 293,
         "_deepnote_index_column": 67
        },
        {
         "year": 1954,
         "month": "September",
         "passengers": 259,
         "_deepnote_index_column": 68
        },
        {
         "year": 1954,
         "month": "October",
         "passengers": 229,
         "_deepnote_index_column": 69
        },
        {
         "year": 1954,
         "month": "November",
         "passengers": 203,
         "_deepnote_index_column": 70
        },
        {
         "year": 1954,
         "month": "December",
         "passengers": 229,
         "_deepnote_index_column": 71
        },
        {
         "year": 1955,
         "month": "January",
         "passengers": 242,
         "_deepnote_index_column": 72
        },
        {
         "year": 1955,
         "month": "February",
         "passengers": 233,
         "_deepnote_index_column": 73
        },
        {
         "year": 1955,
         "month": "March",
         "passengers": 267,
         "_deepnote_index_column": 74
        },
        {
         "year": 1955,
         "month": "April",
         "passengers": 269,
         "_deepnote_index_column": 75
        },
        {
         "year": 1955,
         "month": "May",
         "passengers": 270,
         "_deepnote_index_column": 76
        },
        {
         "year": 1955,
         "month": "June",
         "passengers": 315,
         "_deepnote_index_column": 77
        },
        {
         "year": 1955,
         "month": "July",
         "passengers": 364,
         "_deepnote_index_column": 78
        },
        {
         "year": 1955,
         "month": "August",
         "passengers": 347,
         "_deepnote_index_column": 79
        },
        {
         "year": 1955,
         "month": "September",
         "passengers": 312,
         "_deepnote_index_column": 80
        },
        {
         "year": 1955,
         "month": "October",
         "passengers": 274,
         "_deepnote_index_column": 81
        },
        {
         "year": 1955,
         "month": "November",
         "passengers": 237,
         "_deepnote_index_column": 82
        },
        {
         "year": 1955,
         "month": "December",
         "passengers": 278,
         "_deepnote_index_column": 83
        },
        {
         "year": 1956,
         "month": "January",
         "passengers": 284,
         "_deepnote_index_column": 84
        },
        {
         "year": 1956,
         "month": "February",
         "passengers": 277,
         "_deepnote_index_column": 85
        },
        {
         "year": 1956,
         "month": "March",
         "passengers": 317,
         "_deepnote_index_column": 86
        },
        {
         "year": 1956,
         "month": "April",
         "passengers": 313,
         "_deepnote_index_column": 87
        },
        {
         "year": 1956,
         "month": "May",
         "passengers": 318,
         "_deepnote_index_column": 88
        },
        {
         "year": 1956,
         "month": "June",
         "passengers": 374,
         "_deepnote_index_column": 89
        },
        {
         "year": 1956,
         "month": "July",
         "passengers": 413,
         "_deepnote_index_column": 90
        },
        {
         "year": 1956,
         "month": "August",
         "passengers": 405,
         "_deepnote_index_column": 91
        },
        {
         "year": 1956,
         "month": "September",
         "passengers": 355,
         "_deepnote_index_column": 92
        },
        {
         "year": 1956,
         "month": "October",
         "passengers": 306,
         "_deepnote_index_column": 93
        },
        {
         "year": 1956,
         "month": "November",
         "passengers": 271,
         "_deepnote_index_column": 94
        },
        {
         "year": 1956,
         "month": "December",
         "passengers": 306,
         "_deepnote_index_column": 95
        },
        {
         "year": 1957,
         "month": "January",
         "passengers": 315,
         "_deepnote_index_column": 96
        },
        {
         "year": 1957,
         "month": "February",
         "passengers": 301,
         "_deepnote_index_column": 97
        },
        {
         "year": 1957,
         "month": "March",
         "passengers": 356,
         "_deepnote_index_column": 98
        },
        {
         "year": 1957,
         "month": "April",
         "passengers": 348,
         "_deepnote_index_column": 99
        },
        {
         "year": 1957,
         "month": "May",
         "passengers": 355,
         "_deepnote_index_column": 100
        },
        {
         "year": 1957,
         "month": "June",
         "passengers": 422,
         "_deepnote_index_column": 101
        },
        {
         "year": 1957,
         "month": "July",
         "passengers": 465,
         "_deepnote_index_column": 102
        },
        {
         "year": 1957,
         "month": "August",
         "passengers": 467,
         "_deepnote_index_column": 103
        },
        {
         "year": 1957,
         "month": "September",
         "passengers": 404,
         "_deepnote_index_column": 104
        },
        {
         "year": 1957,
         "month": "October",
         "passengers": 347,
         "_deepnote_index_column": 105
        },
        {
         "year": 1957,
         "month": "November",
         "passengers": 305,
         "_deepnote_index_column": 106
        },
        {
         "year": 1957,
         "month": "December",
         "passengers": 336,
         "_deepnote_index_column": 107
        },
        {
         "year": 1958,
         "month": "January",
         "passengers": 340,
         "_deepnote_index_column": 108
        },
        {
         "year": 1958,
         "month": "February",
         "passengers": 318,
         "_deepnote_index_column": 109
        },
        {
         "year": 1958,
         "month": "March",
         "passengers": 362,
         "_deepnote_index_column": 110
        },
        {
         "year": 1958,
         "month": "April",
         "passengers": 348,
         "_deepnote_index_column": 111
        },
        {
         "year": 1958,
         "month": "May",
         "passengers": 363,
         "_deepnote_index_column": 112
        },
        {
         "year": 1958,
         "month": "June",
         "passengers": 435,
         "_deepnote_index_column": 113
        },
        {
         "year": 1958,
         "month": "July",
         "passengers": 491,
         "_deepnote_index_column": 114
        },
        {
         "year": 1958,
         "month": "August",
         "passengers": 505,
         "_deepnote_index_column": 115
        },
        {
         "year": 1958,
         "month": "September",
         "passengers": 404,
         "_deepnote_index_column": 116
        },
        {
         "year": 1958,
         "month": "October",
         "passengers": 359,
         "_deepnote_index_column": 117
        },
        {
         "year": 1958,
         "month": "November",
         "passengers": 310,
         "_deepnote_index_column": 118
        },
        {
         "year": 1958,
         "month": "December",
         "passengers": 337,
         "_deepnote_index_column": 119
        },
        {
         "year": 1959,
         "month": "January",
         "passengers": 360,
         "_deepnote_index_column": 120
        },
        {
         "year": 1959,
         "month": "February",
         "passengers": 342,
         "_deepnote_index_column": 121
        },
        {
         "year": 1959,
         "month": "March",
         "passengers": 406,
         "_deepnote_index_column": 122
        },
        {
         "year": 1959,
         "month": "April",
         "passengers": 396,
         "_deepnote_index_column": 123
        },
        {
         "year": 1959,
         "month": "May",
         "passengers": 420,
         "_deepnote_index_column": 124
        },
        {
         "year": 1959,
         "month": "June",
         "passengers": 472,
         "_deepnote_index_column": 125
        },
        {
         "year": 1959,
         "month": "July",
         "passengers": 548,
         "_deepnote_index_column": 126
        },
        {
         "year": 1959,
         "month": "August",
         "passengers": 559,
         "_deepnote_index_column": 127
        },
        {
         "year": 1959,
         "month": "September",
         "passengers": 463,
         "_deepnote_index_column": 128
        },
        {
         "year": 1959,
         "month": "October",
         "passengers": 407,
         "_deepnote_index_column": 129
        },
        {
         "year": 1959,
         "month": "November",
         "passengers": 362,
         "_deepnote_index_column": 130
        },
        {
         "year": 1959,
         "month": "December",
         "passengers": 405,
         "_deepnote_index_column": 131
        },
        {
         "year": 1960,
         "month": "January",
         "passengers": 417,
         "_deepnote_index_column": 132
        },
        {
         "year": 1960,
         "month": "February",
         "passengers": 391,
         "_deepnote_index_column": 133
        },
        {
         "year": 1960,
         "month": "March",
         "passengers": 419,
         "_deepnote_index_column": 134
        },
        {
         "year": 1960,
         "month": "April",
         "passengers": 461,
         "_deepnote_index_column": 135
        },
        {
         "year": 1960,
         "month": "May",
         "passengers": 472,
         "_deepnote_index_column": 136
        },
        {
         "year": 1960,
         "month": "June",
         "passengers": 535,
         "_deepnote_index_column": 137
        },
        {
         "year": 1960,
         "month": "July",
         "passengers": 622,
         "_deepnote_index_column": 138
        },
        {
         "year": 1960,
         "month": "August",
         "passengers": 606,
         "_deepnote_index_column": 139
        },
        {
         "year": 1960,
         "month": "September",
         "passengers": 508,
         "_deepnote_index_column": 140
        },
        {
         "year": 1960,
         "month": "October",
         "passengers": 461,
         "_deepnote_index_column": 141
        },
        {
         "year": 1960,
         "month": "November",
         "passengers": 390,
         "_deepnote_index_column": 142
        },
        {
         "year": 1960,
         "month": "December",
         "passengers": 432,
         "_deepnote_index_column": 143
        }
       ],
       "rows_bottom": null
      },
      "text/plain": "     year      month  passengers\n0    1949    January         112\n1    1949   February         118\n2    1949      March         132\n3    1949      April         129\n4    1949        May         121\n..    ...        ...         ...\n139  1960     August         606\n140  1960  September         508\n141  1960    October         461\n142  1960   November         390\n143  1960   December         432\n\n[144 rows x 3 columns]",
      "text/html": "<div>\n<style scoped>\n    .dataframe tbody tr th:only-of-type {\n        vertical-align: middle;\n    }\n\n    .dataframe tbody tr th {\n        vertical-align: top;\n    }\n\n    .dataframe thead th {\n        text-align: right;\n    }\n</style>\n<table border=\"1\" class=\"dataframe\">\n  <thead>\n    <tr style=\"text-align: right;\">\n      <th></th>\n      <th>year</th>\n      <th>month</th>\n      <th>passengers</th>\n    </tr>\n  </thead>\n  <tbody>\n    <tr>\n      <th>0</th>\n      <td>1949</td>\n      <td>January</td>\n      <td>112</td>\n    </tr>\n    <tr>\n      <th>1</th>\n      <td>1949</td>\n      <td>February</td>\n      <td>118</td>\n    </tr>\n    <tr>\n      <th>2</th>\n      <td>1949</td>\n      <td>March</td>\n      <td>132</td>\n    </tr>\n    <tr>\n      <th>3</th>\n      <td>1949</td>\n      <td>April</td>\n      <td>129</td>\n    </tr>\n    <tr>\n      <th>4</th>\n      <td>1949</td>\n      <td>May</td>\n      <td>121</td>\n    </tr>\n    <tr>\n      <th>...</th>\n      <td>...</td>\n      <td>...</td>\n      <td>...</td>\n    </tr>\n    <tr>\n      <th>139</th>\n      <td>1960</td>\n      <td>August</td>\n      <td>606</td>\n    </tr>\n    <tr>\n      <th>140</th>\n      <td>1960</td>\n      <td>September</td>\n      <td>508</td>\n    </tr>\n    <tr>\n      <th>141</th>\n      <td>1960</td>\n      <td>October</td>\n      <td>461</td>\n    </tr>\n    <tr>\n      <th>142</th>\n      <td>1960</td>\n      <td>November</td>\n      <td>390</td>\n    </tr>\n    <tr>\n      <th>143</th>\n      <td>1960</td>\n      <td>December</td>\n      <td>432</td>\n    </tr>\n  </tbody>\n</table>\n<p>144 rows × 3 columns</p>\n</div>"
     },
     "metadata": {}
    }
   ],
   "execution_count": null
  },
  {
   "cell_type": "markdown",
   "source": "### Visualizing your data\nCreate charts for your data in one click by selecting **Chart** from the Block dropdown list.\n<img src=\"media/chart.gif\"></img>",
   "metadata": {
    "tags": [],
    "cell_id": "00005-2900d216-7421-4e18-a291-1e5871544a9d",
    "deepnote_cell_type": "markdown"
   }
  },
  {
   "cell_type": "markdown",
   "source": "<br>\n<br>\n\n## [Back](00_getting_started.ipynb)",
   "metadata": {
    "tags": [],
    "cell_id": "00005-c93c0852-5e0b-4b37-aaad-8e19b0955ecd",
    "deepnote_cell_type": "markdown"
   }
  },
  {
   "cell_type": "markdown",
   "source": "<a style='text-decoration:none;line-height:16px;display:flex;color:#5B5B62;padding:10px;justify-content:end;' href='https://deepnote.com?utm_source=created-in-deepnote-cell&projectId=e19bc3ac-22fd-4ca3-9f23-d099570b4b40' target=\"_blank\">\n<img alt='Created in deepnote.com' style='display:inline;max-height:16px;margin:0px;margin-right:7.5px;' src='data:image/svg+xml;base64,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' > </img>\nCreated in <span style='font-weight:600;margin-left:4px;'>Deepnote</span></a>",
   "metadata": {
    "tags": [],
    "created_in_deepnote_cell": true,
    "deepnote_cell_type": "markdown"
   }
  }
 ],
 "nbformat": 4,
 "nbformat_minor": 2,
 "metadata": {
  "orig_nbformat": 2,
  "deepnote": {
   "is_reactive": false
  },
  "deepnote_notebook_id": "b9694295-92fc-4a3f-98b3-f31609abf37a",
  "deepnote_execution_queue": []
 }
}